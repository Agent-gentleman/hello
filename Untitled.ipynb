{
 "cells": [
  {
   "cell_type": "code",
   "execution_count": null,
   "id": "fb798a6b-a754-4bbe-b3cd-056bfb0b9805",
   "metadata": {},
   "outputs": [],
   "source": []
  },
  {
   "cell_type": "code",
   "execution_count": 1,
   "id": "baaab50d-64b4-4a29-a245-2024e62b209f",
   "metadata": {},
   "outputs": [],
   "source": [
    "import numpy as pd"
   ]
  },
  {
   "cell_type": "code",
   "execution_count": 1,
   "id": "e9543fae-f98e-4c94-b46e-e5fd69dc4afe",
   "metadata": {},
   "outputs": [],
   "source": [
    "import numpy as np"
   ]
  },
  {
   "cell_type": "code",
   "execution_count": 1,
   "id": "16b5ac7c-1218-4fa4-b167-a1c3e7503f38",
   "metadata": {},
   "outputs": [],
   "source": [
    "import numpy as np"
   ]
  },
  {
   "cell_type": "code",
   "execution_count": 1,
   "id": "52ab5f2c-1d3d-450c-8853-2732b6eeda2b",
   "metadata": {},
   "outputs": [],
   "source": [
    "import numpy as np"
   ]
  },
  {
   "cell_type": "markdown",
   "id": "359935e3-f07a-4ca7-81ef-d8cf8fbe1a26",
   "metadata": {},
   "source": [
    "#creation of array from python structures (lists ,tupple)"
   ]
  },
  {
   "cell_type": "code",
   "execution_count": 2,
   "id": "512f15df-7f78-4858-8b52-23253d770369",
   "metadata": {},
   "outputs": [],
   "source": [
    "arr=np.array([[1,2,3,4],[5,6,7,8]])"
   ]
  },
  {
   "cell_type": "code",
   "execution_count": 3,
   "id": "18bfb858-0332-48e5-8385-481560da1e7b",
   "metadata": {},
   "outputs": [
    {
     "data": {
      "text/plain": [
       "2"
      ]
     },
     "execution_count": 3,
     "metadata": {},
     "output_type": "execute_result"
    }
   ],
   "source": [
    "arr[0,1]"
   ]
  },
  {
   "cell_type": "code",
   "execution_count": 4,
   "id": "09ae906f-d2c8-4aec-ab0b-8c8b63f82a58",
   "metadata": {},
   "outputs": [
    {
     "data": {
      "text/plain": [
       "(2, 4)"
      ]
     },
     "execution_count": 4,
     "metadata": {},
     "output_type": "execute_result"
    }
   ],
   "source": [
    "arr.shape"
   ]
  },
  {
   "cell_type": "code",
   "execution_count": 5,
   "id": "670e9fb0-4b19-4cdf-904c-9e92d5c54495",
   "metadata": {},
   "outputs": [
    {
     "data": {
      "text/plain": [
       "dtype('int32')"
      ]
     },
     "execution_count": 5,
     "metadata": {},
     "output_type": "execute_result"
    }
   ],
   "source": [
    "arr.dtype"
   ]
  },
  {
   "cell_type": "code",
   "execution_count": 6,
   "id": "42e6b2b6-de26-475a-8576-a16f38942ef1",
   "metadata": {},
   "outputs": [],
   "source": [
    "arr[1,2]=45"
   ]
  },
  {
   "cell_type": "code",
   "execution_count": 7,
   "id": "fce963df-d127-4226-b2f9-8c112a3b68ce",
   "metadata": {},
   "outputs": [
    {
     "data": {
      "text/plain": [
       "array([[ 1,  2,  3,  4],\n",
       "       [ 5,  6, 45,  8]])"
      ]
     },
     "execution_count": 7,
     "metadata": {},
     "output_type": "execute_result"
    }
   ],
   "source": [
    "arr"
   ]
  },
  {
   "cell_type": "code",
   "execution_count": 8,
   "id": "21ddac0d-5e7d-4807-818a-36dca66f0ae7",
   "metadata": {},
   "outputs": [
    {
     "data": {
      "text/plain": [
       "8"
      ]
     },
     "execution_count": 8,
     "metadata": {},
     "output_type": "execute_result"
    }
   ],
   "source": [
    "arr.size"
   ]
  },
  {
   "cell_type": "code",
   "execution_count": 9,
   "id": "ab101a84-920d-4bc3-9476-5571dbd43e5f",
   "metadata": {},
   "outputs": [],
   "source": [
    "# creation of arrays from intrinsic numpy array creation object (zeros,arange,)"
   ]
  },
  {
   "cell_type": "code",
   "execution_count": 10,
   "id": "b4b2815a-aaae-4308-a675-0cc18dd98fdb",
   "metadata": {},
   "outputs": [],
   "source": [
    "zeros =np.zeros((2,5))"
   ]
  },
  {
   "cell_type": "code",
   "execution_count": 11,
   "id": "c07e8d89-4e49-4cbc-95b0-2dc134715e48",
   "metadata": {},
   "outputs": [
    {
     "data": {
      "text/plain": [
       "array([[0., 0., 0., 0., 0.],\n",
       "       [0., 0., 0., 0., 0.]])"
      ]
     },
     "execution_count": 11,
     "metadata": {},
     "output_type": "execute_result"
    }
   ],
   "source": [
    "zeros"
   ]
  },
  {
   "cell_type": "code",
   "execution_count": 12,
   "id": "6ac0cbb0-194d-4500-bd6c-21b9dc468e87",
   "metadata": {},
   "outputs": [],
   "source": [
    "rng=np.arange(15)"
   ]
  },
  {
   "cell_type": "code",
   "execution_count": 13,
   "id": "77916a33-d010-45c3-b7b5-0284c5342a84",
   "metadata": {},
   "outputs": [
    {
     "data": {
      "text/plain": [
       "array([ 0,  1,  2,  3,  4,  5,  6,  7,  8,  9, 10, 11, 12, 13, 14])"
      ]
     },
     "execution_count": 13,
     "metadata": {},
     "output_type": "execute_result"
    }
   ],
   "source": [
    "rng"
   ]
  },
  {
   "cell_type": "code",
   "execution_count": 14,
   "id": "2dbaa948-a9ec-43c8-8a18-4b907c0570c5",
   "metadata": {},
   "outputs": [],
   "source": [
    "lspace=np.linspace(1,6,7)"
   ]
  },
  {
   "cell_type": "code",
   "execution_count": 15,
   "id": "ca19518d-3b4a-49fe-848b-b7b69c3326ea",
   "metadata": {},
   "outputs": [
    {
     "data": {
      "text/plain": [
       "array([1.        , 1.83333333, 2.66666667, 3.5       , 4.33333333,\n",
       "       5.16666667, 6.        ])"
      ]
     },
     "execution_count": 15,
     "metadata": {},
     "output_type": "execute_result"
    }
   ],
   "source": [
    "lspace"
   ]
  },
  {
   "cell_type": "code",
   "execution_count": 16,
   "id": "1754daff-1e68-4465-984f-c6ebfb35af5d",
   "metadata": {},
   "outputs": [],
   "source": [
    "emp=np.empty((4,6))"
   ]
  },
  {
   "cell_type": "code",
   "execution_count": 17,
   "id": "a2c2092a-691a-449a-a86c-2281ac8dfb0a",
   "metadata": {},
   "outputs": [
    {
     "data": {
      "text/plain": [
       "array([[6.23042070e-307, 4.67296746e-307, 1.69121096e-306,\n",
       "        1.29060871e-306, 1.89146896e-307, 7.56571288e-307],\n",
       "       [3.11525958e-307, 1.24610723e-306, 1.37962320e-306,\n",
       "        1.29060871e-306, 2.22518251e-306, 1.33511969e-306],\n",
       "       [1.78022342e-306, 1.05700345e-307, 3.11525958e-307,\n",
       "        1.69118108e-306, 8.06632139e-308, 1.20160711e-306],\n",
       "       [1.69119330e-306, 1.29062229e-306, 1.29060531e-306,\n",
       "        2.13620807e-306, 1.69118787e-306, 2.56765117e-312]])"
      ]
     },
     "execution_count": 17,
     "metadata": {},
     "output_type": "execute_result"
    }
   ],
   "source": [
    "emp"
   ]
  },
  {
   "cell_type": "code",
   "execution_count": 18,
   "id": "0d6b953e-836f-43e7-b027-6c45b3aefc81",
   "metadata": {},
   "outputs": [],
   "source": [
    "emp_like=np.empty_like(lspace)"
   ]
  },
  {
   "cell_type": "code",
   "execution_count": 19,
   "id": "0b4d0d3c-b063-4e45-a105-8d804697f7b9",
   "metadata": {},
   "outputs": [
    {
     "data": {
      "text/plain": [
       "array([1.        , 1.83333333, 2.66666667, 3.5       , 4.33333333,\n",
       "       5.16666667, 6.        ])"
      ]
     },
     "execution_count": 19,
     "metadata": {},
     "output_type": "execute_result"
    }
   ],
   "source": [
    "emp_like"
   ]
  },
  {
   "cell_type": "code",
   "execution_count": 20,
   "id": "22046523-cf94-415d-9b31-cbf7c7c0fefd",
   "metadata": {},
   "outputs": [],
   "source": [
    "ide=np.identity(9)"
   ]
  },
  {
   "cell_type": "code",
   "execution_count": 21,
   "id": "83f60a9f-8e79-4fe9-a1ff-383cf3c83d40",
   "metadata": {},
   "outputs": [
    {
     "data": {
      "text/plain": [
       "array([[1., 0., 0., 0., 0., 0., 0., 0., 0.],\n",
       "       [0., 1., 0., 0., 0., 0., 0., 0., 0.],\n",
       "       [0., 0., 1., 0., 0., 0., 0., 0., 0.],\n",
       "       [0., 0., 0., 1., 0., 0., 0., 0., 0.],\n",
       "       [0., 0., 0., 0., 1., 0., 0., 0., 0.],\n",
       "       [0., 0., 0., 0., 0., 1., 0., 0., 0.],\n",
       "       [0., 0., 0., 0., 0., 0., 1., 0., 0.],\n",
       "       [0., 0., 0., 0., 0., 0., 0., 1., 0.],\n",
       "       [0., 0., 0., 0., 0., 0., 0., 0., 1.]])"
      ]
     },
     "execution_count": 21,
     "metadata": {},
     "output_type": "execute_result"
    }
   ],
   "source": [
    "ide"
   ]
  },
  {
   "cell_type": "code",
   "execution_count": 22,
   "id": "6ae43fd0-a44d-4306-93c1-4587da84b965",
   "metadata": {},
   "outputs": [],
   "source": [
    "arr=np.arange(99)"
   ]
  },
  {
   "cell_type": "code",
   "execution_count": 23,
   "id": "e3050a92-a703-462c-88c5-301db9cc71d6",
   "metadata": {},
   "outputs": [
    {
     "data": {
      "text/plain": [
       "array([ 0,  1,  2,  3,  4,  5,  6,  7,  8,  9, 10, 11, 12, 13, 14, 15, 16,\n",
       "       17, 18, 19, 20, 21, 22, 23, 24, 25, 26, 27, 28, 29, 30, 31, 32, 33,\n",
       "       34, 35, 36, 37, 38, 39, 40, 41, 42, 43, 44, 45, 46, 47, 48, 49, 50,\n",
       "       51, 52, 53, 54, 55, 56, 57, 58, 59, 60, 61, 62, 63, 64, 65, 66, 67,\n",
       "       68, 69, 70, 71, 72, 73, 74, 75, 76, 77, 78, 79, 80, 81, 82, 83, 84,\n",
       "       85, 86, 87, 88, 89, 90, 91, 92, 93, 94, 95, 96, 97, 98])"
      ]
     },
     "execution_count": 23,
     "metadata": {},
     "output_type": "execute_result"
    }
   ],
   "source": [
    "arr"
   ]
  },
  {
   "cell_type": "code",
   "execution_count": 24,
   "id": "728a5f04-913b-47f4-b5c0-43e2842ff426",
   "metadata": {},
   "outputs": [
    {
     "data": {
      "text/plain": [
       "array([[ 0,  1,  2,  3,  4,  5,  6,  7,  8,  9, 10],\n",
       "       [11, 12, 13, 14, 15, 16, 17, 18, 19, 20, 21],\n",
       "       [22, 23, 24, 25, 26, 27, 28, 29, 30, 31, 32],\n",
       "       [33, 34, 35, 36, 37, 38, 39, 40, 41, 42, 43],\n",
       "       [44, 45, 46, 47, 48, 49, 50, 51, 52, 53, 54],\n",
       "       [55, 56, 57, 58, 59, 60, 61, 62, 63, 64, 65],\n",
       "       [66, 67, 68, 69, 70, 71, 72, 73, 74, 75, 76],\n",
       "       [77, 78, 79, 80, 81, 82, 83, 84, 85, 86, 87],\n",
       "       [88, 89, 90, 91, 92, 93, 94, 95, 96, 97, 98]])"
      ]
     },
     "execution_count": 24,
     "metadata": {},
     "output_type": "execute_result"
    }
   ],
   "source": [
    "reshape=arr.reshape(9,11)\n",
    "reshape"
   ]
  },
  {
   "cell_type": "code",
   "execution_count": 25,
   "id": "abee9f1d-72a6-413b-bba6-bee663b64f3c",
   "metadata": {},
   "outputs": [
    {
     "data": {
      "text/plain": [
       "array([ 0,  1,  2,  3,  4,  5,  6,  7,  8,  9, 10, 11, 12, 13, 14, 15, 16,\n",
       "       17, 18, 19, 20, 21, 22, 23, 24, 25, 26, 27, 28, 29, 30, 31, 32, 33,\n",
       "       34, 35, 36, 37, 38, 39, 40, 41, 42, 43, 44, 45, 46, 47, 48, 49, 50,\n",
       "       51, 52, 53, 54, 55, 56, 57, 58, 59, 60, 61, 62, 63, 64, 65, 66, 67,\n",
       "       68, 69, 70, 71, 72, 73, 74, 75, 76, 77, 78, 79, 80, 81, 82, 83, 84,\n",
       "       85, 86, 87, 88, 89, 90, 91, 92, 93, 94, 95, 96, 97, 98])"
      ]
     },
     "execution_count": 25,
     "metadata": {},
     "output_type": "execute_result"
    }
   ],
   "source": [
    "reshape.ravel()"
   ]
  },
  {
   "cell_type": "code",
   "execution_count": 26,
   "id": "ba460e90-b65b-41d6-b03d-deb7d25b00dd",
   "metadata": {},
   "outputs": [
    {
     "data": {
      "text/plain": [
       "array([ 0,  1,  2,  3,  4,  5,  6,  7,  8,  9, 10, 11, 12, 13, 14, 15, 16,\n",
       "       17, 18, 19, 20, 21, 22, 23, 24, 25, 26, 27, 28, 29, 30, 31, 32, 33,\n",
       "       34, 35, 36, 37, 38, 39, 40, 41, 42, 43, 44, 45, 46, 47, 48, 49, 50,\n",
       "       51, 52, 53, 54, 55, 56, 57, 58, 59, 60, 61, 62, 63, 64, 65, 66, 67,\n",
       "       68, 69, 70, 71, 72, 73, 74, 75, 76, 77, 78, 79, 80, 81, 82, 83, 84,\n",
       "       85, 86, 87, 88, 89, 90, 91, 92, 93, 94, 95, 96, 97, 98])"
      ]
     },
     "execution_count": 26,
     "metadata": {},
     "output_type": "execute_result"
    }
   ],
   "source": [
    "arr"
   ]
  },
  {
   "cell_type": "code",
   "execution_count": 27,
   "id": "34df3ec2-cc21-49ee-abbd-da5ef9f779bd",
   "metadata": {},
   "outputs": [
    {
     "data": {
      "text/plain": [
       "array([[ 0,  1,  2,  3,  4,  5,  6,  7,  8,  9, 10],\n",
       "       [11, 12, 13, 14, 15, 16, 17, 18, 19, 20, 21],\n",
       "       [22, 23, 24, 25, 26, 27, 28, 29, 30, 31, 32],\n",
       "       [33, 34, 35, 36, 37, 38, 39, 40, 41, 42, 43],\n",
       "       [44, 45, 46, 47, 48, 49, 50, 51, 52, 53, 54],\n",
       "       [55, 56, 57, 58, 59, 60, 61, 62, 63, 64, 65],\n",
       "       [66, 67, 68, 69, 70, 71, 72, 73, 74, 75, 76],\n",
       "       [77, 78, 79, 80, 81, 82, 83, 84, 85, 86, 87],\n",
       "       [88, 89, 90, 91, 92, 93, 94, 95, 96, 97, 98]])"
      ]
     },
     "execution_count": 27,
     "metadata": {},
     "output_type": "execute_result"
    }
   ],
   "source": [
    "reshape"
   ]
  },
  {
   "cell_type": "code",
   "execution_count": 28,
   "id": "f037d51d-6279-485c-bb6d-82dfb7500a4d",
   "metadata": {},
   "outputs": [
    {
     "data": {
      "text/plain": [
       "array([[ 726816528,        392,          0],\n",
       "       [         0,          1, 1634541689]])"
      ]
     },
     "execution_count": 28,
     "metadata": {},
     "output_type": "execute_result"
    }
   ],
   "source": [
    "import numpy as np\n",
    "arr_original = np.array([[1, 2, 3], [4, 5, 6]])\n",
    "arr_empty_like = np.empty_like(arr_original)\n",
    "arr_empty_like\n"
   ]
  },
  {
   "cell_type": "code",
   "execution_count": 29,
   "id": "48e6ccdd-b322-4ede-897c-66ede9859042",
   "metadata": {},
   "outputs": [],
   "source": [
    "x=[[1,2,3,4],[5,6,7,8],[9,10,11,12]]"
   ]
  },
  {
   "cell_type": "code",
   "execution_count": 35,
   "id": "d962725a-f4f3-4fa9-be27-b32ceb1d6911",
   "metadata": {},
   "outputs": [],
   "source": [
    "ar=np.array(x)"
   ]
  },
  {
   "cell_type": "code",
   "execution_count": 36,
   "id": "5b266c2f-5df4-416e-8253-26d6727b5664",
   "metadata": {},
   "outputs": [
    {
     "data": {
      "text/plain": [
       "array([[ 1,  2,  3,  4],\n",
       "       [ 5,  6,  7,  8],\n",
       "       [ 9, 10, 11, 12]])"
      ]
     },
     "execution_count": 36,
     "metadata": {},
     "output_type": "execute_result"
    }
   ],
   "source": [
    "ar"
   ]
  },
  {
   "cell_type": "code",
   "execution_count": 37,
   "id": "f779bc95-ee02-42eb-9a19-383e22d796e8",
   "metadata": {},
   "outputs": [
    {
     "data": {
      "text/plain": [
       "array([15, 18, 21, 24])"
      ]
     },
     "execution_count": 37,
     "metadata": {},
     "output_type": "execute_result"
    }
   ],
   "source": [
    "ar.sum(axis=0)"
   ]
  },
  {
   "cell_type": "code",
   "execution_count": 41,
   "id": "c1a11257-acf0-49c7-be88-22a36a7744fb",
   "metadata": {},
   "outputs": [
    {
     "ename": "TypeError",
     "evalue": "'numpy.flatiter' object is not callable",
     "output_type": "error",
     "traceback": [
      "\u001b[1;31m---------------------------------------------------------------------------\u001b[0m",
      "\u001b[1;31mTypeError\u001b[0m                                 Traceback (most recent call last)",
      "Cell \u001b[1;32mIn[41], line 1\u001b[0m\n\u001b[1;32m----> 1\u001b[0m \u001b[43mar\u001b[49m\u001b[38;5;241;43m.\u001b[39;49m\u001b[43mflat\u001b[49m\u001b[43m(\u001b[49m\u001b[43m)\u001b[49m\n",
      "\u001b[1;31mTypeError\u001b[0m: 'numpy.flatiter' object is not callable"
     ]
    }
   ],
   "source": [
    "ar.flat()"
   ]
  },
  {
   "cell_type": "code",
   "execution_count": 40,
   "id": "edf2d48f-566e-4385-86fd-92c68ea56c0b",
   "metadata": {},
   "outputs": [
    {
     "name": "stdout",
     "output_type": "stream",
     "text": [
      "1\n",
      "2\n",
      "3\n",
      "4\n",
      "5\n",
      "6\n",
      "7\n",
      "8\n",
      "9\n",
      "10\n",
      "11\n",
      "12\n"
     ]
    }
   ],
   "source": [
    "for item in arr.flat:\n",
    "    print (item)"
   ]
  },
  {
   "cell_type": "code",
   "execution_count": 42,
   "id": "d68864d5-5319-4a06-84a7-6564e85d7a9d",
   "metadata": {},
   "outputs": [
    {
     "data": {
      "text/plain": [
       "2"
      ]
     },
     "execution_count": 42,
     "metadata": {},
     "output_type": "execute_result"
    }
   ],
   "source": [
    "\n",
    "ar.ndim"
   ]
  },
  {
   "cell_type": "code",
   "execution_count": 47,
   "id": "40569eb7-6644-4f9f-a24f-a34bf93296ae",
   "metadata": {},
   "outputs": [
    {
     "data": {
      "text/plain": [
       "12"
      ]
     },
     "execution_count": 47,
     "metadata": {},
     "output_type": "execute_result"
    }
   ],
   "source": [
    "ar.size"
   ]
  },
  {
   "cell_type": "code",
   "execution_count": 45,
   "id": "8a5bdb9f-a730-4e58-8a01-d77911f9891a",
   "metadata": {},
   "outputs": [
    {
     "data": {
      "text/plain": [
       "48"
      ]
     },
     "execution_count": 45,
     "metadata": {},
     "output_type": "execute_result"
    }
   ],
   "source": [
    "ar.nbytes"
   ]
  },
  {
   "cell_type": "code",
   "execution_count": 48,
   "id": "bf32a128-6afc-43e5-b802-63833698c5da",
   "metadata": {},
   "outputs": [],
   "source": [
    "one=np.array([1,3,4,634,2])"
   ]
  },
  {
   "cell_type": "code",
   "execution_count": 49,
   "id": "4114cc52-1621-4f92-b62f-b2cbe5c4791d",
   "metadata": {},
   "outputs": [
    {
     "data": {
      "text/plain": [
       "3"
      ]
     },
     "execution_count": 49,
     "metadata": {},
     "output_type": "execute_result"
    }
   ],
   "source": [
    "one.argmax()"
   ]
  },
  {
   "cell_type": "code",
   "execution_count": 50,
   "id": "5635db93-e48f-44e6-8015-e7202c6c028c",
   "metadata": {},
   "outputs": [
    {
     "data": {
      "text/plain": [
       "0"
      ]
     },
     "execution_count": 50,
     "metadata": {},
     "output_type": "execute_result"
    }
   ],
   "source": [
    "one.argmin()"
   ]
  },
  {
   "cell_type": "code",
   "execution_count": 52,
   "id": "ecc7e153-b63e-410a-97ca-d19bc0911584",
   "metadata": {},
   "outputs": [
    {
     "data": {
      "text/plain": [
       "array([0, 4, 1, 2, 3], dtype=int64)"
      ]
     },
     "execution_count": 52,
     "metadata": {},
     "output_type": "execute_result"
    }
   ],
   "source": [
    "one.argsort()"
   ]
  },
  {
   "cell_type": "code",
   "execution_count": 53,
   "id": "c98ffc9f-6c37-4549-91e1-1cfa2f060fa5",
   "metadata": {},
   "outputs": [
    {
     "data": {
      "text/plain": [
       "array([[ 2,  4,  6,  8],\n",
       "       [10, 12, 14, 16],\n",
       "       [18, 20, 22, 24]])"
      ]
     },
     "execution_count": 53,
     "metadata": {},
     "output_type": "execute_result"
    }
   ],
   "source": [
    "arr+ar"
   ]
  },
  {
   "cell_type": "code",
   "execution_count": 54,
   "id": "c34dff13-b849-4eb6-8642-45e0818be0b9",
   "metadata": {},
   "outputs": [
    {
     "data": {
      "text/plain": [
       "array([[ 1,  2,  3,  4],\n",
       "       [ 5,  6,  7,  8],\n",
       "       [ 9, 10, 11, 12]])"
      ]
     },
     "execution_count": 54,
     "metadata": {},
     "output_type": "execute_result"
    }
   ],
   "source": [
    "arr"
   ]
  },
  {
   "cell_type": "code",
   "execution_count": 55,
   "id": "0e71e08b-9a65-42c7-9c6e-85d540c47976",
   "metadata": {},
   "outputs": [
    {
     "data": {
      "text/plain": [
       "array([[ 1,  2,  3,  4],\n",
       "       [ 5,  6,  7,  8],\n",
       "       [ 9, 10, 11, 12]])"
      ]
     },
     "execution_count": 55,
     "metadata": {},
     "output_type": "execute_result"
    }
   ],
   "source": [
    "ar"
   ]
  },
  {
   "cell_type": "code",
   "execution_count": 56,
   "id": "a4b2ed5d-2e5f-45a3-9cdb-56d41c48a3fd",
   "metadata": {},
   "outputs": [
    {
     "data": {
      "text/plain": [
       "array([[1.        , 1.41421356, 1.73205081, 2.        ],\n",
       "       [2.23606798, 2.44948974, 2.64575131, 2.82842712],\n",
       "       [3.        , 3.16227766, 3.31662479, 3.46410162]])"
      ]
     },
     "execution_count": 56,
     "metadata": {},
     "output_type": "execute_result"
    }
   ],
   "source": [
    "np.sqrt(ar)"
   ]
  },
  {
   "cell_type": "code",
   "execution_count": 58,
   "id": "07b8bd19-c06d-4c8c-ba63-f8d7861ed752",
   "metadata": {},
   "outputs": [
    {
     "data": {
      "text/plain": [
       "78"
      ]
     },
     "execution_count": 58,
     "metadata": {},
     "output_type": "execute_result"
    }
   ],
   "source": [
    "ar.sum()"
   ]
  },
  {
   "cell_type": "code",
   "execution_count": 59,
   "id": "202f96df-8242-4517-ba0f-36b0fba282f8",
   "metadata": {},
   "outputs": [
    {
     "data": {
      "text/plain": [
       "12"
      ]
     },
     "execution_count": 59,
     "metadata": {},
     "output_type": "execute_result"
    }
   ],
   "source": [
    "ar.max()"
   ]
  },
  {
   "cell_type": "code",
   "execution_count": 61,
   "id": "f9b150b0-0f61-4b37-8f4f-65537911e4cc",
   "metadata": {},
   "outputs": [
    {
     "data": {
      "text/plain": [
       "1"
      ]
     },
     "execution_count": 61,
     "metadata": {},
     "output_type": "execute_result"
    }
   ],
   "source": [
    "ar.min()"
   ]
  },
  {
   "cell_type": "code",
   "execution_count": 62,
   "id": "6108587c-a840-46aa-ad8f-611712e3899e",
   "metadata": {},
   "outputs": [
    {
     "data": {
      "text/plain": [
       "(array([1, 1, 1, 2, 2, 2, 2], dtype=int64),\n",
       " array([1, 2, 3, 0, 1, 2, 3], dtype=int64))"
      ]
     },
     "execution_count": 62,
     "metadata": {},
     "output_type": "execute_result"
    }
   ],
   "source": [
    "np.where(ar>5)"
   ]
  },
  {
   "cell_type": "code",
   "execution_count": 63,
   "id": "e4edb5ba-d3aa-4d88-b035-3501dc4c425e",
   "metadata": {},
   "outputs": [
    {
     "data": {
      "text/plain": [
       "12"
      ]
     },
     "execution_count": 63,
     "metadata": {},
     "output_type": "execute_result"
    }
   ],
   "source": [
    "np.count_nonzero(ar)"
   ]
  },
  {
   "cell_type": "code",
   "execution_count": 65,
   "id": "ce149383-16d6-4e70-9d29-d731f566f86d",
   "metadata": {},
   "outputs": [],
   "source": [
    "import sys"
   ]
  },
  {
   "cell_type": "code",
   "execution_count": 70,
   "id": "12b6d084-829a-4960-8602-68281a7cd0ed",
   "metadata": {},
   "outputs": [],
   "source": [
    "py_arr=[0,4,55,2]\n"
   ]
  },
  {
   "cell_type": "code",
   "execution_count": 71,
   "id": "ba08e7b2-7090-44e4-904f-5412ed582fc0",
   "metadata": {},
   "outputs": [],
   "source": [
    "np_arr=np.array(py_arr)"
   ]
  },
  {
   "cell_type": "code",
   "execution_count": 72,
   "id": "430ec70a-abcb-4280-a690-f51a5740d461",
   "metadata": {},
   "outputs": [
    {
     "data": {
      "text/plain": [
       "112"
      ]
     },
     "execution_count": 72,
     "metadata": {},
     "output_type": "execute_result"
    }
   ],
   "source": [
    "sys.getsizeof(1)*len(py_arr)"
   ]
  },
  {
   "cell_type": "markdown",
   "id": "23af2414-a8be-432e-8828-39f2db1e4661",
   "metadata": {},
   "source": []
  },
  {
   "cell_type": "code",
   "execution_count": 73,
   "id": "f4f8b80b-d114-417e-bc32-21ccb344e44e",
   "metadata": {},
   "outputs": [
    {
     "data": {
      "text/plain": [
       "16"
      ]
     },
     "execution_count": 73,
     "metadata": {},
     "output_type": "execute_result"
    }
   ],
   "source": [
    "np_arr.itemsize*np_arr.size"
   ]
  },
  {
   "cell_type": "code",
   "execution_count": null,
   "id": "4804f0c8-7212-4044-a28f-619deaf89405",
   "metadata": {},
   "outputs": [],
   "source": []
  }
 ],
 "metadata": {
  "kernelspec": {
   "display_name": "Python 3 (ipykernel)",
   "language": "python",
   "name": "python3"
  },
  "language_info": {
   "codemirror_mode": {
    "name": "ipython",
    "version": 3
   },
   "file_extension": ".py",
   "mimetype": "text/x-python",
   "name": "python",
   "nbconvert_exporter": "python",
   "pygments_lexer": "ipython3",
   "version": "3.11.4"
  }
 },
 "nbformat": 4,
 "nbformat_minor": 5
}
